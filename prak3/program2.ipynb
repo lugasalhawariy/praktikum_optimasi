{
 "cells": [
  {
   "cell_type": "code",
   "execution_count": 1,
   "metadata": {},
   "outputs": [
    {
     "name": "stdout",
     "output_type": "stream",
     "text": [
      "Welcome to the CBC MILP Solver \n",
      "Version: 2.10.3 \n",
      "Build Date: Dec 15 2019 \n",
      "\n",
      "command line - /home/lugas/Python/prak_Optimasi/myenv/lib/python3.8/site-packages/pulp/apis/../solverdir/cbc/linux/64/cbc /tmp/1fe0bfba7bc3456f8a8a1b7c6242901b-pulp.mps max timeMode elapsed branch printingOptions all solution /tmp/1fe0bfba7bc3456f8a8a1b7c6242901b-pulp.sol (default strategy 1)\n",
      "At line 2 NAME          MODEL\n",
      "At line 3 ROWS\n",
      "At line 7 COLUMNS\n",
      "At line 18 RHS\n",
      "At line 21 BOUNDS\n",
      "At line 24 ENDATA\n",
      "Problem MODEL has 2 rows, 2 columns and 4 elements\n",
      "Coin0008I MODEL read with 0 errors\n",
      "Option for timeMode changed from cpu to elapsed\n",
      "Continuous objective value is 95000 - 0.00 seconds\n",
      "Cgl0004I processed model has 2 rows, 2 columns (2 integer (0 of which binary)) and 4 elements\n",
      "Cutoff increment increased from 1e-05 to 99.9999\n",
      "Cbc0012I Integer solution of -95000 found by DiveCoefficient after 0 iterations and 0 nodes (0.00 seconds)\n",
      "Cbc0001I Search completed - best objective -95000, took 0 iterations and 0 nodes (0.00 seconds)\n",
      "Cbc0035I Maximum depth 0, 0 variables fixed on reduced cost\n",
      "Cuts at root node changed objective from -95000 to -95000\n",
      "Probing was tried 0 times and created 0 cuts of which 0 were active after adding rounds of cuts (0.000 seconds)\n",
      "Gomory was tried 0 times and created 0 cuts of which 0 were active after adding rounds of cuts (0.000 seconds)\n",
      "Knapsack was tried 0 times and created 0 cuts of which 0 were active after adding rounds of cuts (0.000 seconds)\n",
      "Clique was tried 0 times and created 0 cuts of which 0 were active after adding rounds of cuts (0.000 seconds)\n",
      "MixedIntegerRounding2 was tried 0 times and created 0 cuts of which 0 were active after adding rounds of cuts (0.000 seconds)\n",
      "FlowCover was tried 0 times and created 0 cuts of which 0 were active after adding rounds of cuts (0.000 seconds)\n",
      "TwoMirCuts was tried 0 times and created 0 cuts of which 0 were active after adding rounds of cuts (0.000 seconds)\n",
      "ZeroHalf was tried 0 times and created 0 cuts of which 0 were active after adding rounds of cuts (0.000 seconds)\n",
      "\n",
      "Result - Optimal solution found\n",
      "\n",
      "Objective value:                95000.00000000\n",
      "Enumerated nodes:               0\n",
      "Total iterations:               0\n",
      "Time (CPU seconds):             0.00\n",
      "Time (Wallclock seconds):       0.00\n",
      "\n",
      "Option for printingOptions changed from normal to all\n",
      "Total time (CPU seconds):       0.00   (Wallclock seconds):       0.00\n",
      "\n",
      "hasil Maksimal dari LP adalah  300* 150 + 500* 100  =  95000\n",
      "-> Kue Dadar yang diproduksi sebaiknya berjumlah  150\n",
      "-> Kue Apem yang diproduksi sebaiknya berjumlah  100\n",
      "-> Keuntungan maksimal yang didapat berjumlah Rp. 95000\n"
     ]
    }
   ],
   "source": [
    "##max = 300x1+500x2\n",
    "##s.t 2x1+x2<=400\n",
    "## 2x1+5x2<=800\n",
    "## x1,x2<=0 Integer\n",
    "from pulp import *\n",
    "#definisikan variable\n",
    "#x1 maupun x2 tidak boleh bernilai negatif\n",
    "x1 = LpVariable(\"x1\",lowBound=0,cat='Integer')\n",
    "x2 = LpVariable(\"x2\",lowBound=0,cat='Integer')\n",
    "#definisikan mode maksimal\n",
    "prob = LpProblem(\"myProblem\", LpMaximize)\n",
    "#definisikan constrain\n",
    "prob +=2*x1+x2<=400\n",
    "prob +=2*x1+5*x2<=800\n",
    "#definisikan solusi\n",
    "prob +=300*x1+500*x2\n",
    "#run\n",
    "status = prob.solve()\n",
    "rsltX1 = int(value(x1))\n",
    "rsltX2 = int(value(x2))\n",
    "rsltZ = int(300*rsltX1+500*rsltX2)\n",
    "print('hasil Maksimal dari LP adalah ','300*',rsltX1,'+ 500*',rsltX2,' = ',rsltZ)\n",
    "print('-> Kue Dadar yang diproduksi sebaiknya berjumlah ',rsltX1)\n",
    "print('-> Kue Apem yang diproduksi sebaiknya berjumlah ',rsltX2)\n",
    "print('-> Keuntungan maksimal yang didapat berjumlah Rp.',rsltZ)"
   ]
  }
 ],
 "metadata": {
  "interpreter": {
   "hash": "1057c25aa01be7420e573d4e6867ef5cb79c9ee7d78fd070be3ffe20d720b1f7"
  },
  "kernelspec": {
   "display_name": "Python 3.8.10 64-bit ('myenv': venv)",
   "language": "python",
   "name": "python3"
  },
  "language_info": {
   "codemirror_mode": {
    "name": "ipython",
    "version": 3
   },
   "file_extension": ".py",
   "mimetype": "text/x-python",
   "name": "python",
   "nbconvert_exporter": "python",
   "pygments_lexer": "ipython3",
   "version": "3.8.10"
  },
  "orig_nbformat": 4
 },
 "nbformat": 4,
 "nbformat_minor": 2
}
