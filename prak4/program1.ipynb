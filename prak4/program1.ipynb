{
 "cells": [
  {
   "cell_type": "code",
   "execution_count": null,
   "metadata": {},
   "outputs": [
    {
     "ename": "",
     "evalue": "",
     "output_type": "error",
     "traceback": [
      "\u001b[1;31mRunning cells with 'Python 3.8.10 64-bit' requires ipykernel package.\n",
      "Run the following command to install 'ipykernel' into the Python environment. \n",
      "Command: '/bin/python3 -m pip install ipykernel -U --user --force-reinstall'"
     ]
    }
   ],
   "source": [
    "from pyomo import pyomo.environ as pyomo"
   ]
  },
  {
   "cell_type": "code",
   "execution_count": null,
   "metadata": {},
   "outputs": [
    {
     "ename": "",
     "evalue": "",
     "output_type": "error",
     "traceback": [
      "\u001b[1;31mRunning cells with 'Python 3.8.10 64-bit' requires ipykernel package.\n",
      "Run the following command to install 'ipykernel' into the Python environment. \n",
      "Command: '/bin/python3 -m pip install ipykernel -U --user --force-reinstall'"
     ]
    }
   ],
   "source": [
    "model = pyomo.ConcreteModel();\n",
    "\n",
    "#variabel declaration\n",
    "model.x1 = pyomo.Var();\n",
    "model.x2 = pyomo.Var();\n",
    "\n",
    "model.obj = pyomo.Objective(expr = 50*model.x1 + 100*model.x2, sense = pyomo.minimize);\n",
    "    def rule1(model):\n",
    "        return 7*model.x1 + 2*model.x2 >= 28\n",
    "    model.eq1 = pyomo.Constraint(rule = rule1, doc = 'Constraint 1');\n",
    "\n",
    "    def rule2(model):\n",
    "        return 2*model.x1 + 12*model.x2 >= 24\n",
    "    model.eq2 = pyomo.Constraint(rule = rule2, doc = 'Constraint 2');\n",
    "\n",
    "    #when running in code\n",
    "    results = pyomo.Constraint(rule = rule2, doc = 'Constraint 2');\n",
    "\n",
    "    results = pyomo.SolverFactory('glpk', executable='/usr/bin/glpsol').solve(model);\n",
    "\n",
    "    #print result\n",
    "    results.write()\n",
    "    print(\"\\n RESULTS \\n\");\n",
    "    print(\"Cost of advertisement campaign = \", model.obj());\n",
    "    print(\"Number of comedy ads purchased = \", model.x1());\n",
    "    print(\"Number of football ads purchased = \", model.x2());\n"
   ]
  }
 ],
 "metadata": {
  "interpreter": {
   "hash": "31f2aee4e71d21fbe5cf8b01ff0e069b9275f58929596ceb00d14d90e3e16cd6"
  },
  "kernelspec": {
   "display_name": "Python 3.8.10 64-bit",
   "language": "python",
   "name": "python3"
  },
  "language_info": {
   "name": "python",
   "version": "3.8.10"
  },
  "orig_nbformat": 4
 },
 "nbformat": 4,
 "nbformat_minor": 2
}
